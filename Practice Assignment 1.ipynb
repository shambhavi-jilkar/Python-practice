{
 "cells": [
  {
   "cell_type": "code",
   "execution_count": null,
   "metadata": {},
   "outputs": [],
   "source": [
    "#---------------------------------------------"
   ]
  },
  {
   "cell_type": "code",
   "execution_count": 1,
   "metadata": {},
   "outputs": [],
   "source": [
    "# 1. Given an integer n perform the following conditional actions:\n",
    "# If  n is odd, print Weird\n",
    "# If  n is even and in the inclusive range of  2 to 5 , print Not Weird\n",
    "# If  n is even and in the inclusive range of  6 to 20 , print Weird\n",
    "# If  n is even and greater than  20 , print Not Weird"
   ]
  },
  {
   "cell_type": "code",
   "execution_count": 13,
   "metadata": {},
   "outputs": [],
   "source": [
    "# 1.Function\n",
    "def Task1(n):\n",
    "    if n%2 != 0:\n",
    "        print(\"Weird\")\n",
    "    elif n%2 == 0:\n",
    "        if n in range(2,6):\n",
    "            print(\"Not Weird\")\n",
    "        elif n in range(6,21):\n",
    "            print(\"Weird\")\n",
    "        elif n>20:\n",
    "            print(\"Not Weird\")"
   ]
  },
  {
   "cell_type": "code",
   "execution_count": 14,
   "metadata": {},
   "outputs": [
    {
     "name": "stdout",
     "output_type": "stream",
     "text": [
      "Not Weird\n",
      "Weird\n",
      "Weird\n"
     ]
    }
   ],
   "source": [
    "# Input/Output :\n",
    "Task1(2)\n",
    "Task1(0)\n",
    "Task1(133)\n",
    "Task1(18)"
   ]
  },
  {
   "cell_type": "code",
   "execution_count": 5,
   "metadata": {},
   "outputs": [],
   "source": [
    "#---------------------------------------------"
   ]
  },
  {
   "cell_type": "code",
   "execution_count": 12,
   "metadata": {},
   "outputs": [],
   "source": [
    "# 2. Read an integer N. \n",
    "# For all non-negative integers i <  N , print i^2. "
   ]
  },
  {
   "cell_type": "code",
   "execution_count": 18,
   "metadata": {},
   "outputs": [],
   "source": [
    "def Task2(N):\n",
    "    for i in range(1,N):\n",
    "        print(i*i)"
   ]
  },
  {
   "cell_type": "code",
   "execution_count": 19,
   "metadata": {},
   "outputs": [
    {
     "name": "stdout",
     "output_type": "stream",
     "text": [
      "Enter a number : 5\n",
      "1\n",
      "4\n",
      "9\n",
      "16\n"
     ]
    }
   ],
   "source": [
    "N = int(input(\"Enter a number : \"))\n",
    "Task2(N)"
   ]
  },
  {
   "cell_type": "code",
   "execution_count": 20,
   "metadata": {},
   "outputs": [],
   "source": [
    "#---------------------------------------------"
   ]
  },
  {
   "cell_type": "code",
   "execution_count": null,
   "metadata": {},
   "outputs": [],
   "source": [
    "# 3. Accept the year\n",
    "# write a function to check if the year is leap or not."
   ]
  },
  {
   "cell_type": "code",
   "execution_count": 23,
   "metadata": {},
   "outputs": [],
   "source": [
    "def Task3(year):\n",
    "    if (year % 4) == 0:  \n",
    "        if (year % 100) == 0:  \n",
    "            if (year % 400) == 0:  \n",
    "                print(year,\" is a leap year\")  \n",
    "            else:  \n",
    "                print(year,\" is not a leap year\")  \n",
    "        else:  \n",
    "            print(year,\" is a leap year\") \n",
    "    else:  \n",
    "        print(year,\" is not a leap year\") "
   ]
  },
  {
   "cell_type": "code",
   "execution_count": 24,
   "metadata": {},
   "outputs": [
    {
     "name": "stdout",
     "output_type": "stream",
     "text": [
      "Enter a year: 2012\n",
      "2012  is a leap year\n"
     ]
    }
   ],
   "source": [
    "year = int(input(\"Enter a year: \")) \n",
    "Task3(year)"
   ]
  },
  {
   "cell_type": "code",
   "execution_count": 7,
   "metadata": {},
   "outputs": [],
   "source": [
    "#---------------------------------------------"
   ]
  },
  {
   "cell_type": "code",
   "execution_count": 38,
   "metadata": {},
   "outputs": [],
   "source": [
    "# 4. Accept a list (list = []) elements. \n",
    "# You can perform the following commands:\n",
    "# 1. insert: Insert integer  at the given position .\n",
    "# 2. print: Print the list.\n",
    "# 3. remove: Delete the first occurrence of integer .\n",
    "# 4. append: Insert integer at the end of the list.\n",
    "# 5. sort: Sort the list.\n",
    "# 6. pop: Pop the last element from the list.\n",
    "# 7. reverse: Reverse the list."
   ]
  },
  {
   "cell_type": "code",
   "execution_count": 25,
   "metadata": {},
   "outputs": [
    {
     "name": "stdout",
     "output_type": "stream",
     "text": [
      "Enter number of elements : 5\n",
      "2\n",
      "4\n",
      "3\n",
      "1\n",
      "7\n",
      "[2, 4, 3, 1, 7]\n"
     ]
    }
   ],
   "source": [
    "lst=[]\n",
    "n = int(input(\"Enter number of elements : \")) \n",
    "for i in range(0, n): \n",
    "    ele = int(input()) \n",
    "    lst.append(ele)        \n",
    "print(lst)     "
   ]
  },
  {
   "cell_type": "code",
   "execution_count": 27,
   "metadata": {},
   "outputs": [
    {
     "name": "stdout",
     "output_type": "stream",
     "text": [
      "Enter the position to insert the element : 2\n",
      "Enter the element to be inserted : 10\n"
     ]
    },
    {
     "data": {
      "text/plain": [
       "[2, 4, 10, 3, 1, 7]"
      ]
     },
     "execution_count": 27,
     "metadata": {},
     "output_type": "execute_result"
    }
   ],
   "source": [
    "# 1) INSERT\n",
    "pos = int(input(\"Enter the position to insert the element : \"))\n",
    "elem = int(input(\"Enter the element to be inserted : \"))\n",
    "lst.insert(pos,elem)\n",
    "lst"
   ]
  },
  {
   "cell_type": "code",
   "execution_count": 28,
   "metadata": {},
   "outputs": [
    {
     "name": "stdout",
     "output_type": "stream",
     "text": [
      "[2, 4, 10, 3, 1, 7]\n"
     ]
    }
   ],
   "source": [
    "# 2) PRINT\n",
    "print(lst)"
   ]
  },
  {
   "cell_type": "code",
   "execution_count": 31,
   "metadata": {},
   "outputs": [
    {
     "name": "stdout",
     "output_type": "stream",
     "text": [
      "Enter element to be deleted : 1\n"
     ]
    },
    {
     "data": {
      "text/plain": [
       "[2, 4, 10, 3, 7]"
      ]
     },
     "execution_count": 31,
     "metadata": {},
     "output_type": "execute_result"
    }
   ],
   "source": [
    "# 3) DELETE\n",
    "dele = int(input(\"Enter element to be deleted : \"))\n",
    "lst.remove(dele)\n",
    "lst"
   ]
  },
  {
   "cell_type": "code",
   "execution_count": 34,
   "metadata": {},
   "outputs": [
    {
     "name": "stdout",
     "output_type": "stream",
     "text": [
      "Enter element to be appended : 5\n"
     ]
    },
    {
     "data": {
      "text/plain": [
       "[2, 4, 10, 3, 7, 5]"
      ]
     },
     "execution_count": 34,
     "metadata": {},
     "output_type": "execute_result"
    }
   ],
   "source": [
    "# 4) APPEND\n",
    "app = int(input(\"Enter element to be appended : \"))\n",
    "lst.append(app)\n",
    "lst"
   ]
  },
  {
   "cell_type": "code",
   "execution_count": 35,
   "metadata": {},
   "outputs": [
    {
     "data": {
      "text/plain": [
       "[2, 3, 4, 5, 7, 10]"
      ]
     },
     "execution_count": 35,
     "metadata": {},
     "output_type": "execute_result"
    }
   ],
   "source": [
    "# 5) SORT\n",
    "lst.sort()\n",
    "lst"
   ]
  },
  {
   "cell_type": "code",
   "execution_count": 36,
   "metadata": {},
   "outputs": [
    {
     "data": {
      "text/plain": [
       "[2, 3, 4, 5, 7]"
      ]
     },
     "execution_count": 36,
     "metadata": {},
     "output_type": "execute_result"
    }
   ],
   "source": [
    "# 6) POP\n",
    "lst.pop()\n",
    "lst"
   ]
  },
  {
   "cell_type": "code",
   "execution_count": 37,
   "metadata": {},
   "outputs": [
    {
     "data": {
      "text/plain": [
       "[7, 5, 4, 3, 2]"
      ]
     },
     "execution_count": 37,
     "metadata": {},
     "output_type": "execute_result"
    }
   ],
   "source": [
    "# 7) REVERSE\n",
    "lst.reverse()\n",
    "lst"
   ]
  },
  {
   "cell_type": "code",
   "execution_count": 8,
   "metadata": {},
   "outputs": [],
   "source": [
    "#---------------------------------------------"
   ]
  },
  {
   "cell_type": "code",
   "execution_count": 39,
   "metadata": {},
   "outputs": [],
   "source": [
    "# 5. Ms. Gabriel Williams is a botany professor at District College. \n",
    "# One day, she asked her student Mickey to compute the average of all the plants with distinct heights in her greenhouse.\n",
    "# ----INPUT FORMAT ------\n",
    "# The first line contains the integer, , the total number of plants.\n",
    "# The second line contains the  space separated heights of the plants.\n",
    "# ----OUTPUT FORMAT ------\n",
    "# Output the average height value on a single line."
   ]
  },
  {
   "cell_type": "code",
   "execution_count": 42,
   "metadata": {},
   "outputs": [
    {
     "name": "stdout",
     "output_type": "stream",
     "text": [
      "Total number of plants : 8\n",
      "Enter space separated heights of the plants\n",
      "102 119 190 154 123 119 130 102\n",
      "Distinct heights =  {130, 102, 119, 154, 123, 190}\n",
      "Average height =  136.33333333333334\n"
     ]
    }
   ],
   "source": [
    "n = int(input(\"Total number of plants : \"))\n",
    "print(\"Enter space separated heights of the plants\")\n",
    "heights = [int(x) for x in input().split()]\n",
    "\n",
    "distinctHeights = set(heights) # This takes only the distinct values\n",
    "print(\"Distinct heights = \",distinctHeights)\n",
    "\n",
    "Sum = sum(distinctHeights)\n",
    "Count = len(distinctHeights)\n",
    "average = Sum/Count\n",
    "print(\"Average height = \",average)"
   ]
  },
  {
   "cell_type": "code",
   "execution_count": 9,
   "metadata": {},
   "outputs": [],
   "source": [
    "#---------------------------------------------"
   ]
  },
  {
   "cell_type": "code",
   "execution_count": 43,
   "metadata": {},
   "outputs": [],
   "source": [
    "# 6. You are given a string. Split the string on a \" \" (space) delimiter and join using a - hyphen.\n",
    "# ----INPUT FORMAT ------\n",
    "# The first line contains a string consisting of space separated words.\n",
    "# ----OUTPUT FORMAT ------\n",
    "# Print the formatted string as explained above."
   ]
  },
  {
   "cell_type": "code",
   "execution_count": 45,
   "metadata": {},
   "outputs": [
    {
     "name": "stdout",
     "output_type": "stream",
     "text": [
      "this is a string\n",
      "this-is-a-string\n"
     ]
    }
   ],
   "source": [
    "print(\"-\".join((input().split())))"
   ]
  },
  {
   "cell_type": "code",
   "execution_count": 10,
   "metadata": {},
   "outputs": [],
   "source": [
    "#---------------------------------------------"
   ]
  },
  {
   "cell_type": "code",
   "execution_count": 46,
   "metadata": {},
   "outputs": [],
   "source": [
    "# 7. Create a program that asks the user to enter their name and their age. \n",
    "# Print out a message that tells them the year they will turn 100 years old."
   ]
  },
  {
   "cell_type": "code",
   "execution_count": 51,
   "metadata": {},
   "outputs": [
    {
     "name": "stdout",
     "output_type": "stream",
     "text": [
      "What is your name?\n",
      "Shambhavi\n",
      "How old are you?\n",
      "21\n",
      "Shambhavi you will turn 100 in 2099\n"
     ]
    }
   ],
   "source": [
    "import datetime as dt\n",
    "yr = lambda age:int((100-age) + dt.datetime.now().year)\n",
    "name = input(\"What is your name?\\n\")\n",
    "age = int(input(\"How old are you?\\n\"))\n",
    "print(name,\"you will turn 100 in\",yr(age))"
   ]
  },
  {
   "cell_type": "code",
   "execution_count": 52,
   "metadata": {},
   "outputs": [],
   "source": [
    "#---------------------------------------------"
   ]
  },
  {
   "cell_type": "code",
   "execution_count": 53,
   "metadata": {},
   "outputs": [],
   "source": [
    "# 8. Ask the user for two numbers: \n",
    "# one number to check (call it num) and one number to divide by (check).\n",
    "# If check divides evenly into num, tell that to the user. \n",
    "# If not, print a different appropriate message."
   ]
  },
  {
   "cell_type": "code",
   "execution_count": 57,
   "metadata": {},
   "outputs": [
    {
     "name": "stdout",
     "output_type": "stream",
     "text": [
      "Enter the number : 121\n",
      "Enter the divisor : 12\n",
      "The number is not perfectly divisible.\n",
      "Remainder is  1\n"
     ]
    }
   ],
   "source": [
    "num = int(input(\"Enter the number : \"))\n",
    "check = int(input(\"Enter the divisor : \"))\n",
    "rem = num%check\n",
    "if rem == 0 :\n",
    "    print(\"The number is divisible\")\n",
    "else :\n",
    "    print(\"The number is not perfectly divisible.\")\n",
    "    print(\"Remainder is \",rem)"
   ]
  },
  {
   "cell_type": "code",
   "execution_count": null,
   "metadata": {},
   "outputs": [],
   "source": [
    "#---------------------------------------------"
   ]
  },
  {
   "cell_type": "code",
   "execution_count": 58,
   "metadata": {},
   "outputs": [],
   "source": [
    "# 9.Create a program that asks the user for a number and then prints out a list of all the divisors of that number. \n",
    "# (If you don’t know what a divisor is, it is a number that divides evenly into another number.) "
   ]
  },
  {
   "cell_type": "code",
   "execution_count": 59,
   "metadata": {},
   "outputs": [
    {
     "name": "stdout",
     "output_type": "stream",
     "text": [
      "Enter the number : 20\n",
      "The divisors of 20 are as follows : \n",
      "1\n",
      "2\n",
      "4\n",
      "5\n",
      "10\n",
      "20\n"
     ]
    }
   ],
   "source": [
    "num = int(input(\"Enter the number : \"))\n",
    "print(\"The divisors of\",num,\"are as follows : \")\n",
    "for i in range(1,num+1):\n",
    "    if num%i==0:\n",
    "        print(i)"
   ]
  },
  {
   "cell_type": "code",
   "execution_count": null,
   "metadata": {},
   "outputs": [],
   "source": [
    "#---------------------------------------------"
   ]
  }
 ],
 "metadata": {
  "kernelspec": {
   "display_name": "Python 3",
   "language": "python",
   "name": "python3"
  },
  "language_info": {
   "codemirror_mode": {
    "name": "ipython",
    "version": 3
   },
   "file_extension": ".py",
   "mimetype": "text/x-python",
   "name": "python",
   "nbconvert_exporter": "python",
   "pygments_lexer": "ipython3",
   "version": "3.7.6"
  }
 },
 "nbformat": 4,
 "nbformat_minor": 4
}
