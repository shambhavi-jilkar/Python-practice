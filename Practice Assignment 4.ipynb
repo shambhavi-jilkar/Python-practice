{
 "metadata": {
  "language_info": {
   "codemirror_mode": {
    "name": "ipython",
    "version": 3
   },
   "file_extension": ".py",
   "mimetype": "text/x-python",
   "name": "python",
   "nbconvert_exporter": "python",
   "pygments_lexer": "ipython3",
   "version": "3.8.5-final"
  },
  "orig_nbformat": 2,
  "kernelspec": {
   "name": "python_defaultSpec_1598873520350",
   "display_name": "Python 3.8.5 64-bit ('base': conda)"
  }
 },
 "nbformat": 4,
 "nbformat_minor": 2,
 "cells": [
  {
   "cell_type": "code",
   "execution_count": 1,
   "metadata": {},
   "outputs": [],
   "source": [
    "# -----Assignment 3-------"
   ]
  },
  {
   "cell_type": "code",
   "execution_count": 2,
   "metadata": {
    "tags": []
   },
   "outputs": [
    {
     "output_type": "stream",
     "name": "stdout",
     "text": "{'Hydrogen': 1, 'Oxygen': 8, 'Sodium': 11, 'Chlorine': 17}\n"
    }
   ],
   "source": [
    "# 1. Write Python code to Convert List to Dictionary \n",
    "element=['Hydrogen','Oxygen','Sodium','Chlorine']\n",
    "atomic_number=[1,8,11,17]\n",
    "element_dict=dict(zip(element,atomic_number))\n",
    "print(element_dict)"
   ]
  },
  {
   "cell_type": "code",
   "execution_count": 6,
   "metadata": {
    "tags": []
   },
   "outputs": [
    {
     "output_type": "stream",
     "name": "stdout",
     "text": "The original dictionary is : {'One': {'a': 7, 'b': 9, 'c': 12}, 'Two': {'a': 15, 'b': 19, 'c': 20}, 'Three': {'a': 5, 'b': 10, 'c': 2}}\n1.Extracted values of  b  :  [9, 19, 10]\n2.Extracted values of  b  :  [9, 19, 10]\n"
    }
   ],
   "source": [
    "# 2. Write Python code to extract values of Particular Key from a dictionary \n",
    "new_dict = {'One' : {\"a\" : 7, \"b\" : 9, \"c\" : 12}, \n",
    "             'Two' : {\"a\" : 15, \"b\" : 19, \"c\" : 20},  \n",
    "             'Three' :{\"a\" : 5, \"b\" : 10, \"c\" : 2}} \n",
    "print(\"The original dictionary is : \" + str(new_dict)) \n",
    "temp = \"b\"\n",
    "\n",
    "# Method 1 : Using List Comprehension and items()\n",
    "res=[sub[temp] for key, sub in new_dict.items() if temp in sub]\n",
    "print(\"1.Extracted values of \",temp,\" : \",str(res))\n",
    "\n",
    "# Method 2 : Using map and itemgetter\n",
    "res2=[val[temp] for val in new_dict.values() if temp in val.keys()]\n",
    "print(\"2.Extracted values of \",temp,\" : \",str(res2))"
   ]
  },
  {
   "cell_type": "code",
   "execution_count": 7,
   "metadata": {
    "tags": []
   },
   "outputs": [
    {
     "output_type": "stream",
     "name": "stdout",
     "text": "The original list is : [[5, 6, 7], [8, 3, 2], [8, 2, 1]]\nThe constructed dictionary : {1: [5, 6, 7], 2: [8, 3, 2], 3: [8, 2, 1]}\n"
    }
   ],
   "source": [
    "# 3. Write Python code to Convert Matrix to dictionary using range()function \n",
    "test_list = [[5, 6, 7], [8, 3, 2], [8, 2, 1]]  \n",
    "print(\"The original list is : \" + str(test_list)) \n",
    "res = {idx + 1 : test_list[idx] for idx in range(len(test_list))} \n",
    "print(\"The constructed dictionary : \" + str(res)) "
   ]
  },
  {
   "cell_type": "code",
   "execution_count": 8,
   "metadata": {
    "tags": []
   },
   "outputs": [
    {
     "output_type": "stream",
     "name": "stdout",
     "text": "The original dictionary is : {'MIT': 6, 'is': 7, 'best': 9, 'for': 8, 'DSBDA': 11}\nThe extracted dictionary : {'best': 9, 'for': 8, 'DSBDA': 11}\n"
    }
   ],
   "source": [
    "# 4. Write Python code to extract Dictionary items in value range using loop \n",
    "test_dict = {'MIT' : 6, 'is' : 7, 'best' : 9, 'for' : 8, 'DSBDA' : 11}  \n",
    "print(\"The original dictionary is : \" + str(test_dict)) \n",
    "i=int(input(\"Enter the range values From :\"))\n",
    "j=int(input(\"To :\"))\n",
    "res = dict() \n",
    "for key, val in test_dict.items(): \n",
    "    if int(val) >= i and int(val) <= j: \n",
    "        res[key] = val \n",
    "print(\"The extracted dictionary : \" + str(res))  \n"
   ]
  },
  {
   "cell_type": "code",
   "execution_count": 9,
   "metadata": {
    "tags": []
   },
   "outputs": [
    {
     "output_type": "stream",
     "name": "stdout",
     "text": "{40, 50, 30}\n"
    }
   ],
   "source": [
    "# 5. Write Python code to remove items from set1 that are not common to both set1 and set2\n",
    "set1 = {10, 20, 30, 40, 50}\n",
    "set2 = {30, 40, 50, 60, 70}\n",
    "set1.intersection_update(set2)\n",
    "print(set1)"
   ]
  },
  {
   "cell_type": "code",
   "execution_count": 13,
   "metadata": {
    "tags": []
   },
   "outputs": [
    {
     "output_type": "stream",
     "name": "stdout",
     "text": "Two sets have items in common\n{10}\n"
    }
   ],
   "source": [
    "# 6.\tWrite Python code to determine whether or not the following two sets have any elements in common. If yes display the common elements\n",
    "set1 = {10, 20, 30, 40, 50}\n",
    "set2 = {60, 70, 80, 90, 10}\n",
    "if set1.isdisjoint(set2):\n",
    "  print(\"Two sets have no items in common\")\n",
    "else:\n",
    "  print(\"Two sets have items in common\")\n",
    "  print(set1.intersection(set2))"
   ]
  },
  {
   "cell_type": "code",
   "execution_count": 14,
   "metadata": {
    "tags": []
   },
   "outputs": [
    {
     "output_type": "stream",
     "name": "stdout",
     "text": "{40, 50}\n"
    }
   ],
   "source": [
    "# 7. Write Python code to Remove 10, 20, 30 elements from a following set at once\n",
    "set1 = {10, 20, 30, 40, 50}\n",
    "set1.difference_update({10, 20, 30})\n",
    "print(set1)"
   ]
  },
  {
   "cell_type": "code",
   "execution_count": 15,
   "metadata": {
    "tags": []
   },
   "outputs": [
    {
     "output_type": "stream",
     "name": "stdout",
     "text": "{70, 40, 10, 50, 20, 60, 30}\n"
    }
   ],
   "source": [
    "# 8. Write Python code to Returns a new set with all items from both sets by removing duplicates\n",
    "set1 = {10, 20, 30, 40, 50}\n",
    "set2 = {30, 40, 50, 60, 70}\n",
    "print(set1.union(set2))"
   ]
  },
  {
   "cell_type": "code",
   "execution_count": 11,
   "metadata": {
    "tags": []
   },
   "outputs": [
    {
     "output_type": "stream",
     "name": "stdout",
     "text": "{40, 50, 30}\n"
    }
   ],
   "source": [
    "# 9. Write Python code to Return a set of identical items from a given two Python set\n",
    "set1 = {10, 20, 30, 40, 50}\n",
    "set2 = {30, 40, 50, 60, 70}\n",
    "print(set1.intersection(set2))"
   ]
  }
 ]
}