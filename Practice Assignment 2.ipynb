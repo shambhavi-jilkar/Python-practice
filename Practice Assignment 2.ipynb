{
 "cells": [
  {
   "cell_type": "code",
   "execution_count": null,
   "metadata": {},
   "outputs": [],
   "source": [
    "# -----ASSIGNMENT 2--------"
   ]
  },
  {
   "cell_type": "code",
   "execution_count": 2,
   "metadata": {},
   "outputs": [
    {
     "name": "stdout",
     "output_type": "stream",
     "text": [
      "Enter a number : 23\n",
      "Square root : 4.795831523312719\n"
     ]
    }
   ],
   "source": [
    "# 1. Write a Python program to accept a number from user and find the square root of it\n",
    "import math\n",
    "number = int(input(\"Enter a number : \"))\n",
    "sqrt = math.sqrt(number)\n",
    "print(\"Square root :\" , sqrt)"
   ]
  },
  {
   "cell_type": "code",
   "execution_count": 3,
   "metadata": {},
   "outputs": [
    {
     "name": "stdout",
     "output_type": "stream",
     "text": [
      "Before swapping: \n",
      "Value of x :  24  and y :  38\n",
      "After swapping: \n",
      "Value of x :  38  and y :  24\n"
     ]
    }
   ],
   "source": [
    "# 2. Write a python program to Swap Two Variables without using third variable.\n",
    "x = 24\n",
    "y = 38\n",
    "print (\"Before swapping: \") \n",
    "print(\"Value of x : \", x, \" and y : \", y) \n",
    "# code to swap 'x' and 'y' \n",
    "x, y = y, x  \n",
    "print (\"After swapping: \") \n",
    "print(\"Value of x : \", x, \" and y : \", y) "
   ]
  },
  {
   "cell_type": "code",
   "execution_count": 4,
   "metadata": {},
   "outputs": [
    {
     "name": "stdout",
     "output_type": "stream",
     "text": [
      "How many Random Numbers do you want to display ::6\n",
      "Enter Starting number ::23\n",
      "Enter Ending number ::100\n",
      "[88, 71, 93, 51, 65, 89]\n"
     ]
    }
   ],
   "source": [
    "# 3. Write a python program to Generate a Random Number for a given range. Accept values for range from user.\n",
    "import random\n",
    "def randomno(s,e,n):\n",
    "   ran = []\n",
    "   for i in range(n):\n",
    "      ran.append(random.randint(s, e))\n",
    "   return ran\n",
    "# Driver Code\n",
    "n = int(input(\"How many Random Numbers do you want to display ::\"))\n",
    "s = int(input(\"Enter Starting number ::\"))\n",
    "e = int(input(\"Enter Ending number ::\"))\n",
    "print(randomno(s, e, n))"
   ]
  },
  {
   "cell_type": "code",
   "execution_count": 5,
   "metadata": {},
   "outputs": [
    {
     "name": "stdout",
     "output_type": "stream",
     "text": [
      "Enter lower range: 20\n",
      "Enter upper range: 100\n",
      "23\n",
      "29\n",
      "31\n",
      "37\n",
      "41\n",
      "43\n",
      "47\n",
      "53\n",
      "59\n",
      "61\n",
      "67\n",
      "71\n",
      "73\n",
      "79\n",
      "83\n",
      "89\n",
      "97\n"
     ]
    }
   ],
   "source": [
    "# 4. Write a python program to print all Prime Numbers in an Interval\n",
    "lower = int(input(\"Enter lower range: \"))  \n",
    "upper = int(input(\"Enter upper range: \"))   \n",
    "for num in range(lower,upper + 1):  \n",
    "   if num > 1:  \n",
    "       for i in range(2,num):  \n",
    "           if (num % i) == 0:  \n",
    "               break  \n",
    "       else:  \n",
    "           print(num)  "
   ]
  },
  {
   "cell_type": "code",
   "execution_count": 6,
   "metadata": {},
   "outputs": [
    {
     "name": "stdout",
     "output_type": "stream",
     "text": [
      "Enter the number of terms : 8\n",
      "Fibonacci sequence :\n",
      "0\n",
      "1\n",
      "1\n",
      "2\n",
      "3\n",
      "5\n",
      "8\n",
      "13\n"
     ]
    }
   ],
   "source": [
    "# 5.Write a python program to Print the Fibonacci sequence\n",
    "nterms = int(input(\"Enter the number of terms : \"))\n",
    "n1, n2 = 0, 1\n",
    "count = 0\n",
    "if nterms <= 0:\n",
    "   print(\"Enter a positive integer : \")\n",
    "elif nterms == 1:\n",
    "   print(\"Fibonacci sequence upto \",nterms,\":\")\n",
    "   print(n1)\n",
    "else:\n",
    "   print(\"Fibonacci sequence :\")\n",
    "   while count < nterms:\n",
    "       print(n1)\n",
    "       nth = n1 + n2\n",
    "       n1 = n2\n",
    "       n2 = nth\n",
    "       count += 1"
   ]
  },
  {
   "cell_type": "code",
   "execution_count": 7,
   "metadata": {},
   "outputs": [
    {
     "name": "stdout",
     "output_type": "stream",
     "text": [
      "Enter a number: 234\n",
      "234 is not an Armstrong number\n"
     ]
    }
   ],
   "source": [
    "# 6.Write a python program to Check Armstrong Number\n",
    "num = int(input(\"Enter a number: \"))  \n",
    "sum = 0  \n",
    "temp = num  \n",
    "  \n",
    "while temp > 0:  \n",
    "   digit = temp % 10  \n",
    "   sum += digit ** 3  \n",
    "   temp //= 10  \n",
    "  \n",
    "if num == sum:  \n",
    "   print(num,\"is an Armstrong number\")  \n",
    "else:  \n",
    "   print(num,\"is not an Armstrong number\")  "
   ]
  },
  {
   "cell_type": "code",
   "execution_count": 8,
   "metadata": {},
   "outputs": [
    {
     "name": "stdout",
     "output_type": "stream",
     "text": [
      "Enter lower range: 20\n",
      "Enter upper range: 100\n",
      "64\n"
     ]
    }
   ],
   "source": [
    "# 7.Write a python program to Find Armstrong Number in an Interval\n",
    "lower = int(input(\"Enter lower range: \"))  \n",
    "upper = int(input(\"Enter upper range: \"))    \n",
    "for num in range(lower,upper + 1):  \n",
    "   sum = 0  \n",
    "   temp = num  \n",
    "   while temp > 0:  \n",
    "       digit = temp % 10  \n",
    "       sum += digit ** 3  \n",
    "       temp //= 10  \n",
    "       if num == sum:  \n",
    "            print(num)  "
   ]
  },
  {
   "cell_type": "code",
   "execution_count": 9,
   "metadata": {},
   "outputs": [
    {
     "name": "stdout",
     "output_type": "stream",
     "text": [
      "How many terms? 5\n",
      "2 raised to power 0 is 1\n",
      "2 raised to power 1 is 2\n",
      "2 raised to power 2 is 4\n",
      "2 raised to power 3 is 8\n",
      "2 raised to power 4 is 16\n"
     ]
    }
   ],
   "source": [
    "# 8.Python Program to display the powers of 2 using anonymous function\n",
    " \n",
    "# Take number of terms from user\n",
    "terms = int(input(\"How many terms? \"))\n",
    " \n",
    "# use anonymous function\n",
    "result = list(map(lambda x: 2 ** x, range(terms)))\n",
    " \n",
    "# display the result\n",
    "for i in range(terms):\n",
    "   print(\"2 raised to power\",i,\"is\",result[i])"
   ]
  },
  {
   "cell_type": "code",
   "execution_count": 10,
   "metadata": {},
   "outputs": [
    {
     "name": "stdout",
     "output_type": "stream",
     "text": [
      "Enter any character: r\n",
      "The ASCII value of char r is:  114\n",
      "Enter ASCII value: 72\n",
      "H\n"
     ]
    }
   ],
   "source": [
    "# 9.Write a python program to Find ASCII Value of Character and to get characters from their corresponding ASCII values\n",
    "\n",
    "# Program to find the ASCII value of a character\n",
    "ch = input(\"Enter any character: \")\n",
    "print(\"The ASCII value of char \" + ch + \" is: \",ord(ch))\n",
    "\n",
    "# Program to find the character from an input ASCII value\n",
    "num = int(input(\"Enter ASCII value: \"))\n",
    "print(chr(num))"
   ]
  },
  {
   "cell_type": "code",
   "execution_count": null,
   "metadata": {},
   "outputs": [],
   "source": []
  }
 ],
 "metadata": {
  "kernelspec": {
   "display_name": "Python 3",
   "language": "python",
   "name": "python3"
  }
 },
 "nbformat": 4,
 "nbformat_minor": 4
}
