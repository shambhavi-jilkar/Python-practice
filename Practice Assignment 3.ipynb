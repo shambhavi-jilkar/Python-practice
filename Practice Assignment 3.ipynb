{
 "cells": [
  {
   "cell_type": "code",
   "execution_count": 1,
   "metadata": {},
   "outputs": [],
   "source": [
    "# -----Assignment 3-------"
   ]
  },
  {
   "cell_type": "code",
   "execution_count": 9,
   "metadata": {},
   "outputs": [
    {
     "name": "stdout",
     "output_type": "stream",
     "text": [
      "Enter the first number : 12\n",
      "Enter the second number : 34\n",
      "2\n"
     ]
    }
   ],
   "source": [
    "# 1.Write a python program to Find GCD using function\n",
    "def gcd(a,b):\n",
    "    if(b==0):\n",
    "        return a\n",
    "    else:\n",
    "        return gcd(b,a%b)\n",
    "\n",
    "a=int(input(\"Enter the first number : \"))\n",
    "b=int(input(\"Enter the second number : \"))\n",
    "GCD=gcd(a,b)\n",
    "print(GCD)"
   ]
  },
  {
   "cell_type": "code",
   "execution_count": 6,
   "metadata": {},
   "outputs": [
    {
     "name": "stdout",
     "output_type": "stream",
     "text": [
      "Enter the first number : 23\n",
      "Enter the second number : 23\n",
      "23\n"
     ]
    }
   ],
   "source": [
    "# 2.Write a python program to Find LCM using function\n",
    "def findlcm(a, b):   # Function definition\n",
    "    if(a > b):   \n",
    "        maximum = a\n",
    "    else:\n",
    "        maximum = b\n",
    "    while(True):\n",
    "        if(maximum % a == 0 and maximum % b == 0):\n",
    "            lcm = maximum;\n",
    "            break;\n",
    "        maximum = maximum + 1\n",
    "    return lcm\n",
    "\n",
    "num1 = int(input(\"Enter the first number : \"))\n",
    "num2 = int(input(\"Enter the second number : \"))\n",
    "lcm = findlcm(num1, num2)   # Function call\n",
    "print(lcm)"
   ]
  },
  {
   "cell_type": "code",
   "execution_count": 10,
   "metadata": {},
   "outputs": [
    {
     "name": "stdout",
     "output_type": "stream",
     "text": [
      "Enter the number : 24\n",
      "The factors of 24 are:\n",
      "1\n",
      "2\n",
      "3\n",
      "4\n",
      "6\n",
      "8\n",
      "12\n",
      "24\n"
     ]
    }
   ],
   "source": [
    "# 3.Write a python program to Find the Factors of a Number\n",
    "def print_factors(x):\n",
    "   print(\"The factors of\",x,\"are:\")\n",
    "   for i in range(1, x + 1):\n",
    "       if x % i == 0:\n",
    "           print(i)\n",
    "\n",
    "num = int(input(\"Enter the number : \"))\n",
    "print_factors(num)"
   ]
  },
  {
   "cell_type": "code",
   "execution_count": 11,
   "metadata": {},
   "outputs": [
    {
     "name": "stdout",
     "output_type": "stream",
     "text": [
      "Select operation.\n",
      "1.Add\n",
      "2.Subtract\n",
      "3.Multiply\n",
      "4.Divide\n",
      "Enter choice(1/2/3/4): 3\n",
      "Enter first number: 23\n",
      "Enter second number: 11\n",
      "23.0 * 11.0 = 253.0\n"
     ]
    }
   ],
   "source": [
    "# 4.Write a python program to Make a arithmetic Calculator using function for each operation like add, subtract….\n",
    "\n",
    "# This function adds two numbers\n",
    "def add(x, y):\n",
    "    return x + y\n",
    "\n",
    "# This function subtracts two numbers\n",
    "def subtract(x, y):\n",
    "    return x - y\n",
    "\n",
    "# This function multiplies two numbers\n",
    "def multiply(x, y):\n",
    "    return x * y\n",
    "\n",
    "# This function divides two numbers\n",
    "def divide(x, y):\n",
    "    return x / y\n",
    "\n",
    "\n",
    "print(\"Select operation.\")\n",
    "print(\"1.Add\")\n",
    "print(\"2.Subtract\")\n",
    "print(\"3.Multiply\")\n",
    "print(\"4.Divide\")\n",
    "\n",
    "while True:\n",
    "    # Take input from the user\n",
    "    choice = input(\"Enter choice(1/2/3/4): \")\n",
    "\n",
    "    # Check if choice is one of the four options\n",
    "    if choice in ('1', '2', '3', '4'):\n",
    "        num1 = float(input(\"Enter first number: \"))\n",
    "        num2 = float(input(\"Enter second number: \"))\n",
    "\n",
    "        if choice == '1':\n",
    "            print(num1, \"+\", num2, \"=\", add(num1, num2))\n",
    "\n",
    "        elif choice == '2':\n",
    "            print(num1, \"-\", num2, \"=\", subtract(num1, num2))\n",
    "\n",
    "        elif choice == '3':\n",
    "            print(num1, \"*\", num2, \"=\", multiply(num1, num2))\n",
    "\n",
    "        elif choice == '4':\n",
    "            print(num1, \"/\", num2, \"=\", divide(num1, num2))\n",
    "        break\n",
    "    else:\n",
    "        print(\"Invalid Input\")"
   ]
  },
  {
   "cell_type": "code",
   "execution_count": 19,
   "metadata": {},
   "outputs": [
    {
     "name": "stdout",
     "output_type": "stream",
     "text": [
      "[4, 20, 14]\n",
      "[12, 12, 12]\n",
      "[26, 23, 25]\n"
     ]
    }
   ],
   "source": [
    "# 5.Write a python program to add Two Matrices using list\n",
    "X = [[2,17,13],\n",
    "    [4 ,5,6],\n",
    "    [17 ,18,19]]\n",
    "\n",
    "Y = [[2,3,1],\n",
    "    [8,7,6],\n",
    "    [9,5,6]]\n",
    "\n",
    "result = [[X[i][j] + Y[i][j]  for j in range(len(X[0]))] for i in range(len(X))]\n",
    "\n",
    "for r in result:\n",
    "   print(r)"
   ]
  },
  {
   "cell_type": "code",
   "execution_count": 13,
   "metadata": {},
   "outputs": [
    {
     "name": "stdout",
     "output_type": "stream",
     "text": [
      "[64, 81, 71, 10]\n",
      "[52, 66, 44, 7]\n",
      "[41, 59, 20, 11]\n"
     ]
    }
   ],
   "source": [
    "# 6.Write a python program to multiply Two Matrices using list\n",
    "A = [[2, 5, 6], \n",
    "    [2, 5, 3], \n",
    "    [5, 2, 1]] \n",
    "B = [[5, 8, 1, 2], \n",
    "    [6, 7, 3, 0], \n",
    "    [4, 5, 9, 1]] \n",
    "\n",
    "result = [[sum(a * b for a, b in zip(A_row, B_col))  \n",
    "                        for B_col in zip(*B)] \n",
    "                                for A_row in A] \n",
    "for r in result: \n",
    "    print(r) "
   ]
  },
  {
   "cell_type": "code",
   "execution_count": 15,
   "metadata": {},
   "outputs": [
    {
     "name": "stdout",
     "output_type": "stream",
     "text": [
      "Enter the string : bananab\n",
      "Yes, it's a palindrome\n"
     ]
    }
   ],
   "source": [
    "# 7.Write a python program to check Whether a String is Palindrome or Not\n",
    "\n",
    "def isPalindrome(str): \n",
    "    for i in range(0, int(len(str)/2)):  \n",
    "        if str[i] != str[len(str)-i-1]: \n",
    "            return False\n",
    "    return True\n",
    "  \n",
    "s = input(\"Enter the string : \")\n",
    "ans = isPalindrome(s)   \n",
    "if (ans): \n",
    "    print(\"Yes, it's a palindrome\") \n",
    "else: \n",
    "    print(\"No, it's not a palindrome\") "
   ]
  },
  {
   "cell_type": "code",
   "execution_count": 17,
   "metadata": {},
   "outputs": [
    {
     "name": "stdout",
     "output_type": "stream",
     "text": [
      "Union of E and N is {10, 12, 14, 16, 18, 21, 22, 23, 25}\n",
      "Intersection of E and N is {14}\n",
      "Difference of E and N is {16, 10, 18, 12}\n",
      "Symmetric difference of E and N is {10, 12, 16, 18, 21, 22, 23, 25}\n"
     ]
    }
   ],
   "source": [
    "# 8.Write a python program to Illustrate Different Set Operations (Union, intersection, difference, symmetric difference)\n",
    "\n",
    "E = {10, 12, 14, 16, 18};\n",
    "N = {21, 22, 23, 14, 25};\n",
    "\n",
    "# set union\n",
    "print(\"Union of E and N is\",E | N)\n",
    "\n",
    "# set intersection\n",
    "print(\"Intersection of E and N is\",E & N)\n",
    "\n",
    "# set difference\n",
    "print(\"Difference of E and N is\",E - N)\n",
    "\n",
    "# set symmetric difference\n",
    "print(\"Symmetric difference of E and N is\",E ^ N)"
   ]
  },
  {
   "cell_type": "code",
   "execution_count": 18,
   "metadata": {},
   "outputs": [
    {
     "name": "stdout",
     "output_type": "stream",
     "text": [
      "Enter the number to find the cube of : 3\n",
      "The cube of  3 is  27.0\n"
     ]
    }
   ],
   "source": [
    "# 9.Write a python program to Display cube of 2 Using module. (import module)\n",
    "import math\n",
    "num = int(input(\"Enter the number to find the cube of : \"))\n",
    "print(\"The cube of \",num,\"is \",math.pow(num,3))"
   ]
  },
  {
   "cell_type": "code",
   "execution_count": null,
   "metadata": {},
   "outputs": [],
   "source": []
  }
 ],
 "metadata": {
  "kernelspec": {
   "display_name": "Python 3",
   "language": "python",
   "name": "python3"
  },
  "language_info": {
   "codemirror_mode": {
    "name": "ipython",
    "version": 3
   },
   "file_extension": ".py",
   "mimetype": "text/x-python",
   "name": "python",
   "nbconvert_exporter": "python",
   "pygments_lexer": "ipython3",
   "version": "3.8.5"
  }
 },
 "nbformat": 4,
 "nbformat_minor": 4
}
